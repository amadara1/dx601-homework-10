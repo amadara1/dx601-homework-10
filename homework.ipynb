{
 "cells": [
  {
   "cell_type": "markdown",
   "metadata": {},
   "source": [
    "# DX 601 Week 10 Homework"
   ]
  },
  {
   "cell_type": "markdown",
   "metadata": {},
   "source": [
    "## Introduction\n",
    "\n",
    "In this homework, you will practice basic operations with matrices."
   ]
  },
  {
   "cell_type": "markdown",
   "metadata": {},
   "source": [
    "## Example Code\n",
    "\n",
    "You may find it helpful to refer to this GitHub repository of Jupyter notebooks for example code.\n",
    "\n",
    "* https://github.com/bu-cds-omds/dx500-examples\n",
    "* https://github.com/bu-cds-omds/dx601-examples\n",
    "* https://github.com/bu-cds-omds/dx602-examples\n",
    "\n",
    "Any calculations demonstrated in code examples or videos may be found in these notebooks, and you are allowed to copy this example code in your homework answers."
   ]
  },
  {
   "cell_type": "markdown",
   "metadata": {},
   "source": [
    "## Shared Imports\n",
    "\n",
    "Do not install or use any additional modules.\n",
    "Installing additional modules may result in an autograder failure resulting in zero points for some or all problems."
   ]
  },
  {
   "cell_type": "code",
   "execution_count": 1,
   "metadata": {},
   "outputs": [],
   "source": [
    "import math\n",
    "import sys"
   ]
  },
  {
   "cell_type": "code",
   "execution_count": 2,
   "metadata": {},
   "outputs": [],
   "source": [
    "import matplotlib.pyplot as plt\n",
    "import numpy as np\n",
    "import pandas as pd"
   ]
  },
  {
   "cell_type": "markdown",
   "metadata": {},
   "source": [
    "## Problems"
   ]
  },
  {
   "cell_type": "markdown",
   "metadata": {},
   "source": [
    "### Problem 1\n",
    "\n",
    "Set `p1` to the trace of the matrix\n",
    "\\begin{bmatrix}\n",
    "1 & 5 & 2 \\\\\n",
    "-7 & 9 & 8 \\\\\n",
    "3 & 2 & 6 \\\\\n",
    "\\end{bmatrix}\n"
   ]
  },
  {
   "cell_type": "code",
   "execution_count": 3,
   "metadata": {},
   "outputs": [],
   "source": [
    "# YOUR CHANGES HERE\n",
    "\n",
    "p1 = np.trace(np.asarray([[1, 5, 2], [-7, 9, 8], [3, 2, 6]]))"
   ]
  },
  {
   "cell_type": "code",
   "execution_count": 4,
   "metadata": {},
   "outputs": [
    {
     "data": {
      "text/plain": [
       "np.int64(16)"
      ]
     },
     "execution_count": 4,
     "metadata": {},
     "output_type": "execute_result"
    }
   ],
   "source": [
    "p1"
   ]
  },
  {
   "cell_type": "markdown",
   "metadata": {},
   "source": [
    "### Problem 2\n",
    "\n",
    "Set `p2` to the transpose of the matrix\n",
    "\n",
    "\\begin{bmatrix}\n",
    "4 & 2 & 7 \\\\\n",
    "8 & 5 & 1 \\\\\n",
    "2 & 6 & 3 \\\\\n",
    "\\end{bmatrix}\n"
   ]
  },
  {
   "cell_type": "code",
   "execution_count": 5,
   "metadata": {},
   "outputs": [],
   "source": [
    "# YOUR CHANGES HERE\n",
    "\n",
    "p2 = np.transpose(np.asarray([[4, 2, 7,], [8, 5, 1], [2, 6, 3]]))"
   ]
  },
  {
   "cell_type": "code",
   "execution_count": 6,
   "metadata": {},
   "outputs": [
    {
     "data": {
      "text/plain": [
       "array([[4, 8, 2],\n",
       "       [2, 5, 6],\n",
       "       [7, 1, 3]])"
      ]
     },
     "execution_count": 6,
     "metadata": {},
     "output_type": "execute_result"
    }
   ],
   "source": [
    "p2"
   ]
  },
  {
   "cell_type": "markdown",
   "metadata": {},
   "source": [
    "### Problem 3\n",
    "\n",
    "Set `p3` to be the transpose of `q3`.\n"
   ]
  },
  {
   "cell_type": "code",
   "execution_count": 7,
   "metadata": {},
   "outputs": [
    {
     "data": {
      "text/plain": [
       "array([[-0.01360112, -1.46500812, -0.27692561, -0.42310394, -1.08916478],\n",
       "       [-0.92981147, -1.33763129, -0.60155956,  1.20761548,  0.84523834],\n",
       "       [-0.7357686 , -0.17268799,  0.88596177, -0.98521575, -1.15429029],\n",
       "       [-0.98100767, -0.16181207,  0.52053393,  0.74956931, -2.0668364 ],\n",
       "       [-0.55031032, -0.96781023,  0.2562466 ,  1.05642169, -0.48648003]])"
      ]
     },
     "execution_count": 7,
     "metadata": {},
     "output_type": "execute_result"
    }
   ],
   "source": [
    "# DO NOT CHANGE\n",
    "\n",
    "q3 = np.array([[-0.01360112, -1.46500812, -0.27692561, -0.42310394, -1.08916478],\n",
    "       [-0.92981147, -1.33763129, -0.60155956,  1.20761548,  0.84523834],\n",
    "       [-0.7357686 , -0.17268799,  0.88596177, -0.98521575, -1.15429029],\n",
    "       [-0.98100767, -0.16181207,  0.52053393,  0.74956931, -2.0668364 ],\n",
    "       [-0.55031032, -0.96781023,  0.2562466 ,  1.05642169, -0.48648003]])\n",
    "q3"
   ]
  },
  {
   "cell_type": "markdown",
   "metadata": {},
   "source": [
    "Hint: NumPy has a few ways to do this trivially.\n",
    "You can look them up faster than typing in this matrix or its transpose."
   ]
  },
  {
   "cell_type": "code",
   "execution_count": 8,
   "metadata": {},
   "outputs": [],
   "source": [
    "# YOUR CHANGES HERE\n",
    "\n",
    "p3 = np.transpose(q3)"
   ]
  },
  {
   "cell_type": "code",
   "execution_count": 9,
   "metadata": {},
   "outputs": [
    {
     "data": {
      "text/plain": [
       "array([[-0.01360112, -0.92981147, -0.7357686 , -0.98100767, -0.55031032],\n",
       "       [-1.46500812, -1.33763129, -0.17268799, -0.16181207, -0.96781023],\n",
       "       [-0.27692561, -0.60155956,  0.88596177,  0.52053393,  0.2562466 ],\n",
       "       [-0.42310394,  1.20761548, -0.98521575,  0.74956931,  1.05642169],\n",
       "       [-1.08916478,  0.84523834, -1.15429029, -2.0668364 , -0.48648003]])"
      ]
     },
     "execution_count": 9,
     "metadata": {},
     "output_type": "execute_result"
    }
   ],
   "source": [
    "p3"
   ]
  },
  {
   "cell_type": "markdown",
   "metadata": {},
   "source": [
    "### Problem 4\n",
    "\n",
    "Write a function `p4` that returns `True` if an input matrix is symmetric and `False` otherwise."
   ]
  },
  {
   "cell_type": "markdown",
   "metadata": {},
   "source": [
    "Hint: NumPy has a function [`np.array_equal`](https://numpy.org/doc/stable/reference/generated/numpy.array_equal.html) that will make this easier."
   ]
  },
  {
   "cell_type": "code",
   "execution_count": 10,
   "metadata": {},
   "outputs": [],
   "source": [
    "# YOUR CHANGES HERE\n",
    "\n",
    "def p4(m):\n",
    "    if np.array_equal(m, m.T):\n",
    "        return True\n",
    "    else:\n",
    "        return False"
   ]
  },
  {
   "cell_type": "code",
   "execution_count": 11,
   "metadata": {},
   "outputs": [
    {
     "data": {
      "text/plain": [
       "True"
      ]
     },
     "execution_count": 11,
     "metadata": {},
     "output_type": "execute_result"
    }
   ],
   "source": [
    "# should return true\n",
    "p4(np.array([[1, 0], [0, 1]]))"
   ]
  },
  {
   "cell_type": "code",
   "execution_count": 12,
   "metadata": {},
   "outputs": [
    {
     "data": {
      "text/plain": [
       "False"
      ]
     },
     "execution_count": 12,
     "metadata": {},
     "output_type": "execute_result"
    }
   ],
   "source": [
    "# should return false\n",
    "p4(np.array([[1, 2], [3, 4]]))"
   ]
  },
  {
   "cell_type": "markdown",
   "metadata": {},
   "source": [
    "### Problem 5\n",
    "\n",
    "Set `p5` to $3x + 2y$ where $x$ and $y$ are respectively in `x5` and `y5`.\n"
   ]
  },
  {
   "cell_type": "code",
   "execution_count": 13,
   "metadata": {},
   "outputs": [
    {
     "data": {
      "text/plain": [
       "array([[-0.24389677, -0.26830261, -0.9870142 ,  1.23274779,  0.00824161],\n",
       "       [ 0.33685162,  0.50438823,  0.50953501,  1.06299757,  0.47553274],\n",
       "       [-0.06979652,  0.88705427,  0.06441108, -0.36479521,  2.14335222],\n",
       "       [ 0.20775683,  0.96549669,  0.89559484,  1.36015926,  0.21595356],\n",
       "       [ 1.42545495,  1.1969253 ,  0.84640923,  1.79356692, -1.83408336]])"
      ]
     },
     "execution_count": 13,
     "metadata": {},
     "output_type": "execute_result"
    }
   ],
   "source": [
    "# DO NOT CHANGE\n",
    "\n",
    "x5 = np.array([[-0.24389677, -0.26830261, -0.9870142 ,  1.23274779,  0.00824161],\n",
    "       [ 0.33685162,  0.50438823,  0.50953501,  1.06299757,  0.47553274],\n",
    "       [-0.06979652,  0.88705427,  0.06441108, -0.36479521,  2.14335222],\n",
    "       [ 0.20775683,  0.96549669,  0.89559484,  1.36015926,  0.21595356],\n",
    "       [ 1.42545495,  1.1969253 ,  0.84640923,  1.79356692, -1.83408336]])\n",
    "x5"
   ]
  },
  {
   "cell_type": "code",
   "execution_count": 14,
   "metadata": {},
   "outputs": [
    {
     "data": {
      "text/plain": [
       "array([[ 1.46994671, -0.05535155,  0.1809549 ,  0.09982112,  0.72415382],\n",
       "       [-0.43302509,  0.28419608,  1.43481809,  0.19801696,  0.22396864],\n",
       "       [-1.21475138,  0.60960865,  0.90861035,  0.25103477,  0.57198302],\n",
       "       [-1.21089702,  0.17419828,  0.04772397, -0.97154458, -0.74168603],\n",
       "       [-2.05435996,  0.00357587, -0.31438553, -0.52754128,  0.35035861]])"
      ]
     },
     "execution_count": 14,
     "metadata": {},
     "output_type": "execute_result"
    }
   ],
   "source": [
    "# DO NOT CHANGE\n",
    "\n",
    "y5 = np.array([[ 1.46994671, -0.05535155,  0.1809549 ,  0.09982112,  0.72415382],\n",
    "       [-0.43302509,  0.28419608,  1.43481809,  0.19801696,  0.22396864],\n",
    "       [-1.21475138,  0.60960865,  0.90861035,  0.25103477,  0.57198302],\n",
    "       [-1.21089702,  0.17419828,  0.04772397, -0.97154458, -0.74168603],\n",
    "       [-2.05435996,  0.00357587, -0.31438553, -0.52754128,  0.35035861]])\n",
    "y5"
   ]
  },
  {
   "cell_type": "code",
   "execution_count": 15,
   "metadata": {},
   "outputs": [],
   "source": [
    "# YOUR CHANGES HERE\n",
    "\n",
    "p5 = (3 * x5) + (2 * y5)"
   ]
  },
  {
   "cell_type": "code",
   "execution_count": 16,
   "metadata": {},
   "outputs": [
    {
     "data": {
      "text/plain": [
       "array([[ 2.20820311, -0.91561093, -2.5991328 ,  3.89788561,  1.47303247],\n",
       "       [ 0.14450468,  2.08155685,  4.39824121,  3.58502663,  1.8745355 ],\n",
       "       [-2.63889232,  3.88038011,  2.01045394, -0.59231609,  7.5740227 ],\n",
       "       [-1.79852355,  3.24488663,  2.78223246,  2.13738862, -0.83551138],\n",
       "       [ 0.16764493,  3.59792764,  1.91045663,  4.3256182 , -4.80153286]])"
      ]
     },
     "execution_count": 16,
     "metadata": {},
     "output_type": "execute_result"
    }
   ],
   "source": [
    "p5"
   ]
  },
  {
   "cell_type": "markdown",
   "metadata": {},
   "source": [
    "### Problem 6\n",
    "\n",
    "Set `p6` to the result of the matrix multiplication\n",
    "$\\begin{bmatrix}\n",
    "1 & 3 \\\\\n",
    "2 & 0 \\\\\n",
    "\\end{bmatrix}\n",
    "\\begin{bmatrix}\n",
    "0 & 3 \\\\\n",
    "2 & -1 \\\\\n",
    "\\end{bmatrix}$\n"
   ]
  },
  {
   "cell_type": "code",
   "execution_count": 17,
   "metadata": {},
   "outputs": [],
   "source": [
    "# YOUR CHANGES HERE\n",
    "\n",
    "p6 = np.matmul([[1, 3], [2, 0]], [[0, 3], [2, -1]])"
   ]
  },
  {
   "cell_type": "code",
   "execution_count": 18,
   "metadata": {},
   "outputs": [
    {
     "data": {
      "text/plain": [
       "array([[6, 0],\n",
       "       [0, 6]])"
      ]
     },
     "execution_count": 18,
     "metadata": {},
     "output_type": "execute_result"
    }
   ],
   "source": [
    "p6"
   ]
  },
  {
   "cell_type": "markdown",
   "metadata": {},
   "source": [
    "### Problem 7\n",
    "\n",
    "Set `p7` to be the result of multiplying the matrices in `x7` and `y7`."
   ]
  },
  {
   "cell_type": "markdown",
   "metadata": {},
   "source": [
    "Hint: use NumPy's matrix multiplication functionality."
   ]
  },
  {
   "cell_type": "code",
   "execution_count": 19,
   "metadata": {},
   "outputs": [
    {
     "data": {
      "text/plain": [
       "array([[ 1.12510969, -0.68403506,  1.106613  ,  0.26977997,  1.31003595],\n",
       "       [-2.46789639, -0.631568  , -0.40459478, -0.44276999,  0.35342956],\n",
       "       [ 0.08847366,  1.04391453, -2.06768109, -1.59304958, -1.45124381],\n",
       "       [-0.31574675,  0.47213461,  0.01544427, -1.00203016,  0.30260759],\n",
       "       [-0.18144407,  0.55210749, -0.96200836,  0.77615041, -0.82085057]])"
      ]
     },
     "execution_count": 19,
     "metadata": {},
     "output_type": "execute_result"
    }
   ],
   "source": [
    "# DO NOT CHANGE\n",
    "\n",
    "x7 = np.array([[ 1.12510969, -0.68403506,  1.106613  ,  0.26977997,  1.31003595],\n",
    "       [-2.46789639, -0.631568  , -0.40459478, -0.44276999,  0.35342956],\n",
    "       [ 0.08847366,  1.04391453, -2.06768109, -1.59304958, -1.45124381],\n",
    "       [-0.31574675,  0.47213461,  0.01544427, -1.00203016,  0.30260759],\n",
    "       [-0.18144407,  0.55210749, -0.96200836,  0.77615041, -0.82085057]])\n",
    "x7"
   ]
  },
  {
   "cell_type": "code",
   "execution_count": 20,
   "metadata": {},
   "outputs": [
    {
     "data": {
      "text/plain": [
       "array([[-0.53240175,  0.59279203,  0.19610132,  0.31489693,  1.31591487],\n",
       "       [ 0.90107926,  0.01106459,  0.4695847 ,  0.21402271,  0.48587671],\n",
       "       [-0.31841096,  1.08388531,  0.05264241, -0.3044392 ,  1.34193777],\n",
       "       [-0.56276555, -0.71220132, -0.99487118,  0.66883629,  0.49585603],\n",
       "       [-0.01016394, -2.2580422 , -2.72960502, -0.33287333, -0.34948483]])"
      ]
     },
     "execution_count": 20,
     "metadata": {},
     "output_type": "execute_result"
    }
   ],
   "source": [
    "# DO NOT CHANGE\n",
    "\n",
    "y7 = np.array([[-0.53240175,  0.59279203,  0.19610132,  0.31489693,  1.31591487],\n",
    "       [ 0.90107926,  0.01106459,  0.4695847 ,  0.21402271,  0.48587671],\n",
    "       [-0.31841096,  1.08388531,  0.05264241, -0.3044392 ,  1.34193777],\n",
    "       [-0.56276555, -0.71220132, -0.99487118,  0.66883629,  0.49585603],\n",
    "       [-0.01016394, -2.2580422 , -2.72960502, -0.33287333, -0.34948483]])\n",
    "y7"
   ]
  },
  {
   "cell_type": "code",
   "execution_count": 21,
   "metadata": {},
   "outputs": [],
   "source": [
    "# YOUR CHANGES HERE\n",
    "\n",
    "p7 = np.matmul(x7, y7)"
   ]
  },
  {
   "cell_type": "code",
   "execution_count": 22,
   "metadata": {},
   "outputs": [
    {
     "data": {
      "text/plain": [
       "array([[-1.73287588, -1.29142505, -3.88659915, -0.38463922,  2.30913198],\n",
       "       [ 1.1192304 , -2.39118918, -1.32605525, -1.20291629, -4.4404152 ],\n",
       "       [ 2.4631823 ,  2.23440959,  5.94490988,  0.29835567, -2.43379733],\n",
       "       [ 1.14944957, -0.13486187,  0.33149359, -0.77400613, -0.76799084],\n",
       "       [ 0.47196012,  0.1565834 ,  1.64146553,  1.14625724, -0.58973045]])"
      ]
     },
     "execution_count": 22,
     "metadata": {},
     "output_type": "execute_result"
    }
   ],
   "source": [
    "p7"
   ]
  },
  {
   "cell_type": "markdown",
   "metadata": {},
   "source": [
    "### Problem 8\n",
    "\n",
    "Set `p8` to the result of the matrix-vector multiplication\n",
    "$\\begin{bmatrix}\n",
    "1 & 3 \\\\\n",
    "4 & 0 \\\\\n",
    "\\end{bmatrix}\n",
    "\\begin{bmatrix}\n",
    "1 \\\\\n",
    "2 \\\\\n",
    "\\end{bmatrix}$."
   ]
  },
  {
   "cell_type": "code",
   "execution_count": 23,
   "metadata": {},
   "outputs": [],
   "source": [
    "# YOUR CHANGES HERE\n",
    "\n",
    "p8 = np.dot([[1, 3], [4, 0]], [[1], [2]])"
   ]
  },
  {
   "cell_type": "code",
   "execution_count": 24,
   "metadata": {},
   "outputs": [
    {
     "data": {
      "text/plain": [
       "array([[7],\n",
       "       [4]])"
      ]
     },
     "execution_count": 24,
     "metadata": {},
     "output_type": "execute_result"
    }
   ],
   "source": [
    "p8"
   ]
  },
  {
   "cell_type": "markdown",
   "metadata": {},
   "source": [
    "### Problem 9\n",
    "\n",
    "Set `p9` to be the result of matrix multiplication on `components9` and `materials9`.\n"
   ]
  },
  {
   "cell_type": "markdown",
   "metadata": {},
   "source": [
    "Hint: even though these are data frames, you can still multiply them with the @ operator as if they were NumPy arrays, but the indexes and column names will be preserved."
   ]
  },
  {
   "cell_type": "code",
   "execution_count": 25,
   "metadata": {},
   "outputs": [
    {
     "data": {
      "text/html": [
       "<div>\n",
       "<style scoped>\n",
       "    .dataframe tbody tr th:only-of-type {\n",
       "        vertical-align: middle;\n",
       "    }\n",
       "\n",
       "    .dataframe tbody tr th {\n",
       "        vertical-align: top;\n",
       "    }\n",
       "\n",
       "    .dataframe thead th {\n",
       "        text-align: right;\n",
       "    }\n",
       "</style>\n",
       "<table border=\"1\" class=\"dataframe\">\n",
       "  <thead>\n",
       "    <tr style=\"text-align: right;\">\n",
       "      <th></th>\n",
       "      <th>gears</th>\n",
       "      <th>wires</th>\n",
       "      <th>leds</th>\n",
       "    </tr>\n",
       "  </thead>\n",
       "  <tbody>\n",
       "    <tr>\n",
       "      <th>robot</th>\n",
       "      <td>4</td>\n",
       "      <td>2</td>\n",
       "      <td>5</td>\n",
       "    </tr>\n",
       "    <tr>\n",
       "      <th>cart</th>\n",
       "      <td>1</td>\n",
       "      <td>1</td>\n",
       "      <td>2</td>\n",
       "    </tr>\n",
       "    <tr>\n",
       "      <th>vacuum</th>\n",
       "      <td>2</td>\n",
       "      <td>3</td>\n",
       "      <td>1</td>\n",
       "    </tr>\n",
       "  </tbody>\n",
       "</table>\n",
       "</div>"
      ],
      "text/plain": [
       "        gears  wires  leds\n",
       "robot       4      2     5\n",
       "cart        1      1     2\n",
       "vacuum      2      3     1"
      ]
     },
     "execution_count": 25,
     "metadata": {},
     "output_type": "execute_result"
    }
   ],
   "source": [
    "# DO NOT CHANGE\n",
    "\n",
    "components9 = pd.DataFrame(index=[\"robot\", \"cart\", \"vacuum\"],\n",
    "                           data={\"gears\": [4, 1, 2], \"wires\": [2, 1, 3], \"leds\": [5, 2, 1]})\n",
    "components9"
   ]
  },
  {
   "cell_type": "code",
   "execution_count": 26,
   "metadata": {},
   "outputs": [
    {
     "data": {
      "text/html": [
       "<div>\n",
       "<style scoped>\n",
       "    .dataframe tbody tr th:only-of-type {\n",
       "        vertical-align: middle;\n",
       "    }\n",
       "\n",
       "    .dataframe tbody tr th {\n",
       "        vertical-align: top;\n",
       "    }\n",
       "\n",
       "    .dataframe thead th {\n",
       "        text-align: right;\n",
       "    }\n",
       "</style>\n",
       "<table border=\"1\" class=\"dataframe\">\n",
       "  <thead>\n",
       "    <tr style=\"text-align: right;\">\n",
       "      <th></th>\n",
       "      <th>metal</th>\n",
       "      <th>plastic</th>\n",
       "    </tr>\n",
       "  </thead>\n",
       "  <tbody>\n",
       "    <tr>\n",
       "      <th>gears</th>\n",
       "      <td>1.00</td>\n",
       "      <td>1.00</td>\n",
       "    </tr>\n",
       "    <tr>\n",
       "      <th>wires</th>\n",
       "      <td>0.20</td>\n",
       "      <td>0.40</td>\n",
       "    </tr>\n",
       "    <tr>\n",
       "      <th>leds</th>\n",
       "      <td>0.01</td>\n",
       "      <td>0.02</td>\n",
       "    </tr>\n",
       "  </tbody>\n",
       "</table>\n",
       "</div>"
      ],
      "text/plain": [
       "       metal  plastic\n",
       "gears   1.00     1.00\n",
       "wires   0.20     0.40\n",
       "leds    0.01     0.02"
      ]
     },
     "execution_count": 26,
     "metadata": {},
     "output_type": "execute_result"
    }
   ],
   "source": [
    "# DO NOT CHANGE\n",
    "\n",
    "materials9 = pd.DataFrame(index=[\"gears\", \"wires\", \"leds\"],\n",
    "                          data={\"metal\": [1, 0.2, 0.01], \"plastic\": [1, 0.4, 0.02]})\n",
    "materials9"
   ]
  },
  {
   "cell_type": "code",
   "execution_count": 27,
   "metadata": {},
   "outputs": [],
   "source": [
    "# YOUR CHANGES HERE\n",
    "\n",
    "p9 = np.matmul(components9, materials9)"
   ]
  },
  {
   "cell_type": "code",
   "execution_count": 28,
   "metadata": {},
   "outputs": [
    {
     "data": {
      "text/html": [
       "<div>\n",
       "<style scoped>\n",
       "    .dataframe tbody tr th:only-of-type {\n",
       "        vertical-align: middle;\n",
       "    }\n",
       "\n",
       "    .dataframe tbody tr th {\n",
       "        vertical-align: top;\n",
       "    }\n",
       "\n",
       "    .dataframe thead th {\n",
       "        text-align: right;\n",
       "    }\n",
       "</style>\n",
       "<table border=\"1\" class=\"dataframe\">\n",
       "  <thead>\n",
       "    <tr style=\"text-align: right;\">\n",
       "      <th></th>\n",
       "      <th>metal</th>\n",
       "      <th>plastic</th>\n",
       "    </tr>\n",
       "  </thead>\n",
       "  <tbody>\n",
       "    <tr>\n",
       "      <th>robot</th>\n",
       "      <td>4.45</td>\n",
       "      <td>4.90</td>\n",
       "    </tr>\n",
       "    <tr>\n",
       "      <th>cart</th>\n",
       "      <td>1.22</td>\n",
       "      <td>1.44</td>\n",
       "    </tr>\n",
       "    <tr>\n",
       "      <th>vacuum</th>\n",
       "      <td>2.61</td>\n",
       "      <td>3.22</td>\n",
       "    </tr>\n",
       "  </tbody>\n",
       "</table>\n",
       "</div>"
      ],
      "text/plain": [
       "        metal  plastic\n",
       "robot    4.45     4.90\n",
       "cart     1.22     1.44\n",
       "vacuum   2.61     3.22"
      ]
     },
     "execution_count": 28,
     "metadata": {},
     "output_type": "execute_result"
    }
   ],
   "source": [
    "p9"
   ]
  },
  {
   "cell_type": "markdown",
   "metadata": {},
   "source": [
    "### Problem 10\n",
    "\n",
    "The variable `q10` has the transition probabilities for a trivial weather model based on Markov chains.\n",
    "Set `p10` to be the steady state probabilities of each weather condition under this model."
   ]
  },
  {
   "cell_type": "code",
   "execution_count": 29,
   "metadata": {},
   "outputs": [
    {
     "data": {
      "text/html": [
       "<div>\n",
       "<style scoped>\n",
       "    .dataframe tbody tr th:only-of-type {\n",
       "        vertical-align: middle;\n",
       "    }\n",
       "\n",
       "    .dataframe tbody tr th {\n",
       "        vertical-align: top;\n",
       "    }\n",
       "\n",
       "    .dataframe thead th {\n",
       "        text-align: right;\n",
       "    }\n",
       "</style>\n",
       "<table border=\"1\" class=\"dataframe\">\n",
       "  <thead>\n",
       "    <tr style=\"text-align: right;\">\n",
       "      <th></th>\n",
       "      <th>sun</th>\n",
       "      <th>cloudy</th>\n",
       "      <th>rainy</th>\n",
       "    </tr>\n",
       "  </thead>\n",
       "  <tbody>\n",
       "    <tr>\n",
       "      <th>sun</th>\n",
       "      <td>0.8</td>\n",
       "      <td>0.1</td>\n",
       "      <td>0.1</td>\n",
       "    </tr>\n",
       "    <tr>\n",
       "      <th>cloudy</th>\n",
       "      <td>0.1</td>\n",
       "      <td>0.5</td>\n",
       "      <td>0.4</td>\n",
       "    </tr>\n",
       "    <tr>\n",
       "      <th>rainy</th>\n",
       "      <td>0.1</td>\n",
       "      <td>0.2</td>\n",
       "      <td>0.7</td>\n",
       "    </tr>\n",
       "  </tbody>\n",
       "</table>\n",
       "</div>"
      ],
      "text/plain": [
       "        sun  cloudy  rainy\n",
       "sun     0.8     0.1    0.1\n",
       "cloudy  0.1     0.5    0.4\n",
       "rainy   0.1     0.2    0.7"
      ]
     },
     "execution_count": 29,
     "metadata": {},
     "output_type": "execute_result"
    }
   ],
   "source": [
    "# DO NOT CHANGE\n",
    "\n",
    "q10 = pd.DataFrame(index=[\"sun\", \"cloudy\", \"rainy\"],\n",
    "                   data={\"sun\": [0.8, 0.1, 0.1],\n",
    "                         \"cloudy\": [0.1, 0.5, 0.2],\n",
    "                         \"rainy\": [0.1, 0.4, 0.7]})\n",
    "q10"
   ]
  },
  {
   "cell_type": "code",
   "execution_count": 30,
   "metadata": {},
   "outputs": [],
   "source": [
    "# YOUR CHANGES HERE\n",
    "\n",
    "probabilities = np.asarray(q10.values)\n",
    "\n",
    "# p10 = np.\n",
    "\n",
    "def steady_state_prob(P):\n",
    "    eigenvalues, eigenvector = np.linalg.eig(P.T)\n",
    "\n",
    "    index = np.abs(eigenvalues - 1).argmin()\n",
    "    steady_state = eigenvector[:, index].real\n",
    "\n",
    "    return steady_state / np.sum(steady_state)\n",
    "\n",
    "p10 = steady_state_prob(probabilities)"
   ]
  },
  {
   "cell_type": "code",
   "execution_count": 31,
   "metadata": {},
   "outputs": [
    {
     "data": {
      "text/plain": [
       "array([0.33333333, 0.23809524, 0.42857143])"
      ]
     },
     "execution_count": 31,
     "metadata": {},
     "output_type": "execute_result"
    }
   ],
   "source": [
    "p10"
   ]
  },
  {
   "cell_type": "markdown",
   "metadata": {},
   "source": [
    "### Problem 11\n",
    "\n",
    "The vector `v11` below is an eigenvector of the matrix `q11`.\n",
    "Set `p11` to the eigenvalue corresponding to `v11`."
   ]
  },
  {
   "cell_type": "code",
   "execution_count": 32,
   "metadata": {},
   "outputs": [
    {
     "data": {
      "text/plain": [
       "array([[1, 2],\n",
       "       [2, 4]])"
      ]
     },
     "execution_count": 32,
     "metadata": {},
     "output_type": "execute_result"
    }
   ],
   "source": [
    "# DO NOT CHANGE\n",
    "\n",
    "q11 = np.array([[1, 2], [2, 4]])\n",
    "q11"
   ]
  },
  {
   "cell_type": "code",
   "execution_count": 33,
   "metadata": {},
   "outputs": [
    {
     "data": {
      "text/plain": [
       "array([[1],\n",
       "       [2]])"
      ]
     },
     "execution_count": 33,
     "metadata": {},
     "output_type": "execute_result"
    }
   ],
   "source": [
    "# DO NOT CHANGE\n",
    "\n",
    "v11 = np.array([[1], [2]])\n",
    "v11"
   ]
  },
  {
   "cell_type": "code",
   "execution_count": 34,
   "metadata": {},
   "outputs": [
    {
     "data": {
      "text/plain": [
       "array([[ 5],\n",
       "       [10]])"
      ]
     },
     "execution_count": 34,
     "metadata": {},
     "output_type": "execute_result"
    }
   ],
   "source": [
    "# DO NOT CHANGE\n",
    "\n",
    "q11 @ v11"
   ]
  },
  {
   "cell_type": "code",
   "execution_count": 35,
   "metadata": {},
   "outputs": [],
   "source": [
    "# YOUR CHANGES HERE\n",
    "\n",
    "p11 = 5"
   ]
  },
  {
   "cell_type": "code",
   "execution_count": 36,
   "metadata": {},
   "outputs": [
    {
     "data": {
      "text/plain": [
       "5"
      ]
     },
     "execution_count": 36,
     "metadata": {},
     "output_type": "execute_result"
    }
   ],
   "source": [
    "p11"
   ]
  },
  {
   "cell_type": "markdown",
   "metadata": {},
   "source": [
    "### Problem 12\n",
    "\n",
    "Set `p12` to the reduced row echelon form of `q12`.\n"
   ]
  },
  {
   "cell_type": "markdown",
   "metadata": {},
   "source": [
    "Hint: just do this on paper instead of looking for a NumPy function."
   ]
  },
  {
   "cell_type": "code",
   "execution_count": 37,
   "metadata": {},
   "outputs": [
    {
     "data": {
      "text/plain": [
       "array([[1, 0, 1],\n",
       "       [0, 1, 3],\n",
       "       [0, 0, 2]])"
      ]
     },
     "execution_count": 37,
     "metadata": {},
     "output_type": "execute_result"
    }
   ],
   "source": [
    "# DO NOT CHANGE\n",
    "\n",
    "q12 = np.array([[1, 0, 1], [0, 1, 3], [0, 0, 2]])\n",
    "q12"
   ]
  },
  {
   "cell_type": "code",
   "execution_count": 38,
   "metadata": {},
   "outputs": [],
   "source": [
    "# YOUR CHANGES HERE\n",
    "\n",
    "p12 = ([1, 0, 0], [0, 1, 0], [0, 0, 1])"
   ]
  },
  {
   "cell_type": "code",
   "execution_count": 39,
   "metadata": {},
   "outputs": [
    {
     "data": {
      "text/plain": [
       "([1, 0, 0], [0, 1, 0], [0, 0, 1])"
      ]
     },
     "execution_count": 39,
     "metadata": {},
     "output_type": "execute_result"
    }
   ],
   "source": [
    "p12"
   ]
  },
  {
   "cell_type": "markdown",
   "metadata": {},
   "source": [
    "### Problem 13\n",
    "\n",
    "Set `p13` to the reduced row echelon form of `q13`."
   ]
  },
  {
   "cell_type": "markdown",
   "metadata": {},
   "source": [
    "Hint: just do this on paper instead of looking for a NumPy function."
   ]
  },
  {
   "cell_type": "code",
   "execution_count": 40,
   "metadata": {},
   "outputs": [
    {
     "data": {
      "text/plain": [
       "array([[3, 0, 1],\n",
       "       [6, 3, 2],\n",
       "       [0, 2, 0]])"
      ]
     },
     "execution_count": 40,
     "metadata": {},
     "output_type": "execute_result"
    }
   ],
   "source": [
    "# DO NOT CHANGE\n",
    "\n",
    "q13 = np.array([[3, 0, 1], [6, 3, 2], [0, 2, 0]])\n",
    "q13"
   ]
  },
  {
   "cell_type": "code",
   "execution_count": 41,
   "metadata": {},
   "outputs": [],
   "source": [
    "# YOUR CHANGES HERE\n",
    "\n",
    "p13 = [[1, 0, (1/3)], [0, 1, 0], [0, 0, 0]]"
   ]
  },
  {
   "cell_type": "code",
   "execution_count": 42,
   "metadata": {},
   "outputs": [
    {
     "data": {
      "text/plain": [
       "[[1, 0, 0.3333333333333333], [0, 1, 0], [0, 0, 0]]"
      ]
     },
     "execution_count": 42,
     "metadata": {},
     "output_type": "execute_result"
    }
   ],
   "source": [
    "p13"
   ]
  },
  {
   "cell_type": "markdown",
   "metadata": {},
   "source": [
    "### Problem 14\n",
    "\n",
    "Set `p14` to be the rank of `q14`.\n"
   ]
  },
  {
   "cell_type": "code",
   "execution_count": 43,
   "metadata": {},
   "outputs": [
    {
     "data": {
      "text/plain": [
       "array([[0, 2, 0],\n",
       "       [1, 0, 3],\n",
       "       [2, 2, 6]])"
      ]
     },
     "execution_count": 43,
     "metadata": {},
     "output_type": "execute_result"
    }
   ],
   "source": [
    "# DO NOT CHANGE\n",
    "\n",
    "q14 = np.array([[0, 2, 0], [1, 0, 3], [2, 2, 6]])\n",
    "q14"
   ]
  },
  {
   "cell_type": "code",
   "execution_count": 44,
   "metadata": {},
   "outputs": [],
   "source": [
    "# YOUR CHANGES HERE\n",
    "\n",
    "\n",
    "p14 = np.linalg.matrix_rank(q14)"
   ]
  },
  {
   "cell_type": "code",
   "execution_count": 45,
   "metadata": {},
   "outputs": [
    {
     "data": {
      "text/plain": [
       "np.int64(2)"
      ]
     },
     "execution_count": 45,
     "metadata": {},
     "output_type": "execute_result"
    }
   ],
   "source": [
    "p14"
   ]
  },
  {
   "cell_type": "markdown",
   "metadata": {},
   "source": [
    "### Problem 15\n",
    "\n",
    "Set `p15` to be $\\mathbf{Q}^3$ where $\\mathbf{Q}$ is in `q15`."
   ]
  },
  {
   "cell_type": "code",
   "execution_count": 46,
   "metadata": {},
   "outputs": [
    {
     "data": {
      "text/plain": [
       "array([[1. , 0. , 0.1],\n",
       "       [0. , 1. , 0.1],\n",
       "       [0.1, 0. , 1. ]])"
      ]
     },
     "execution_count": 46,
     "metadata": {},
     "output_type": "execute_result"
    }
   ],
   "source": [
    "# DO NOT CHANGE\n",
    "\n",
    "q15 = np.array([[1.0, 0.0, 0.1], [0.0, 1.0, 0.1], [0.1, 0.0, 1.0]])\n",
    "q15"
   ]
  },
  {
   "cell_type": "code",
   "execution_count": 47,
   "metadata": {},
   "outputs": [],
   "source": [
    "# YOUR CHANGES HERE\n",
    "\n",
    "p15 = np.linalg.matrix_power(q15, 3)"
   ]
  },
  {
   "cell_type": "code",
   "execution_count": 48,
   "metadata": {},
   "outputs": [
    {
     "data": {
      "text/plain": [
       "array([[1.03 , 0.   , 0.301],\n",
       "       [0.03 , 1.   , 0.301],\n",
       "       [0.301, 0.   , 1.03 ]])"
      ]
     },
     "execution_count": 48,
     "metadata": {},
     "output_type": "execute_result"
    }
   ],
   "source": [
    "p15"
   ]
  },
  {
   "cell_type": "markdown",
   "metadata": {},
   "source": [
    "### Problem 16\n",
    "\n",
    "Given the transition matrix for a Markov chain in `q16`, what is the conditional probability of being in state 2 at time step 10 after being in state 0 at time step 0."
   ]
  },
  {
   "cell_type": "markdown",
   "metadata": {},
   "source": [
    "Hint: NumPy has a function [`matrix_power`](https://numpy.org/devdocs/reference/generated/numpy.linalg.matrix_power.html) which will make this easier."
   ]
  },
  {
   "cell_type": "code",
   "execution_count": 84,
   "metadata": {},
   "outputs": [
    {
     "data": {
      "text/plain": [
       "array([[0.1, 0.3, 0.6],\n",
       "       [0.2, 0.5, 0.3],\n",
       "       [1. , 0. , 0. ]])"
      ]
     },
     "execution_count": 84,
     "metadata": {},
     "output_type": "execute_result"
    }
   ],
   "source": [
    "# DO NOT CHANGE\n",
    "\n",
    "q16 = np.array([[0.1, 0.3, 0.6], [0.2, 0.5, 0.3], [1.0, 0.0, 0.0]])\n",
    "q16"
   ]
  },
  {
   "cell_type": "code",
   "execution_count": 85,
   "metadata": {},
   "outputs": [],
   "source": [
    "# YOUR CHANGES HERE\n",
    "\n",
    "conditional_probabilities = np.linalg.matrix_power(q16, 10)\n",
    "\n",
    "p16 = conditional_probabilities[0, 2]"
   ]
  },
  {
   "cell_type": "code",
   "execution_count": 86,
   "metadata": {},
   "outputs": [
    {
     "data": {
      "text/plain": [
       "np.float64(0.3172631450999999)"
      ]
     },
     "execution_count": 86,
     "metadata": {},
     "output_type": "execute_result"
    }
   ],
   "source": [
    "p16"
   ]
  },
  {
   "cell_type": "markdown",
   "metadata": {},
   "source": [
    "### Problem 17\n",
    "\n",
    "Set `p17` to the results of Gaussian elimination on `q17`."
   ]
  },
  {
   "cell_type": "code",
   "execution_count": 78,
   "metadata": {},
   "outputs": [
    {
     "data": {
      "text/plain": [
       "array([[0. , 1. , 0. , 2. ],\n",
       "       [1. , 0. , 1. , 0. ],\n",
       "       [1. , 1. , 1. , 2. ],\n",
       "       [0. , 0. , 0. , 0.1]])"
      ]
     },
     "execution_count": 78,
     "metadata": {},
     "output_type": "execute_result"
    }
   ],
   "source": [
    "# DO NOT CHANGE\n",
    "\n",
    "q17 = np.array([[0.0, 1.0, 0.0, 2.0], [1.0, 0.0, 1.0, 0.0], [1.0, 1.0, 1.0, 2.0], [0.0, 0.0, 0.0, 0.1]])\n",
    "q17"
   ]
  },
  {
   "cell_type": "code",
   "execution_count": 53,
   "metadata": {},
   "outputs": [],
   "source": [
    "# YOUR CHANGES HERE\n",
    "\n",
    "p17 = np.asarray([[1.0, 0.0, 1.0, 0.0], [0.0, 1.0, 0.0, 0.0], [0.0, 0.0, 0.0, 1.0], [0.0, 0.0, 0.0, 0.0]])"
   ]
  },
  {
   "cell_type": "code",
   "execution_count": 54,
   "metadata": {},
   "outputs": [
    {
     "data": {
      "text/plain": [
       "array([[1., 0., 1., 0.],\n",
       "       [0., 1., 0., 0.],\n",
       "       [0., 0., 0., 1.],\n",
       "       [0., 0., 0., 0.]])"
      ]
     },
     "execution_count": 54,
     "metadata": {},
     "output_type": "execute_result"
    }
   ],
   "source": [
    "p17"
   ]
  },
  {
   "cell_type": "markdown",
   "metadata": {},
   "source": [
    "### Problem 18\n",
    "\n",
    "Set `p18` to be a row vector of two numbers that are coefficients to show that the third row of `q18` is linearly dependent on the first two rows of `q18`."
   ]
  },
  {
   "cell_type": "markdown",
   "metadata": {},
   "source": [
    "Hint: do this by hand instead of in code, and use the tracking trick."
   ]
  },
  {
   "cell_type": "code",
   "execution_count": 55,
   "metadata": {},
   "outputs": [
    {
     "data": {
      "text/plain": [
       "array([[0.2, 0.5, 0.3],\n",
       "       [0.1, 0.1, 0.1],\n",
       "       [0.4, 0.7, 0.5]])"
      ]
     },
     "execution_count": 55,
     "metadata": {},
     "output_type": "execute_result"
    }
   ],
   "source": [
    "# DO NOT CHANGE\n",
    "\n",
    "q18 = np.array([[0.2, 0.5, 0.3], [0.1, 0.1, 0.1], [0.4, 0.7, 0.5]])\n",
    "q18"
   ]
  },
  {
   "cell_type": "code",
   "execution_count": 56,
   "metadata": {},
   "outputs": [],
   "source": [
    "p18 = np.array([1, 2])"
   ]
  },
  {
   "cell_type": "code",
   "execution_count": 57,
   "metadata": {},
   "outputs": [
    {
     "data": {
      "text/plain": [
       "array([1, 2])"
      ]
     },
     "execution_count": 57,
     "metadata": {},
     "output_type": "execute_result"
    }
   ],
   "source": [
    "p18"
   ]
  },
  {
   "cell_type": "code",
   "execution_count": 58,
   "metadata": {},
   "outputs": [
    {
     "data": {
      "text/plain": [
       "array([0.4, 0.7, 0.5])"
      ]
     },
     "execution_count": 58,
     "metadata": {},
     "output_type": "execute_result"
    }
   ],
   "source": [
    "# should match the last row of q18\n",
    "\n",
    "p18 @ q18[:2,:] if p18 is not ... else None"
   ]
  },
  {
   "cell_type": "markdown",
   "metadata": {},
   "source": [
    "### Problem 19\n",
    "\n",
    "Set `p19` to be the inverse of `q19`.\n"
   ]
  },
  {
   "cell_type": "markdown",
   "metadata": {},
   "source": [
    "Hint: NumPy has a function for this in its \"linalg\" sub-module."
   ]
  },
  {
   "cell_type": "code",
   "execution_count": 59,
   "metadata": {},
   "outputs": [
    {
     "data": {
      "text/plain": [
       "array([[1. , 0.2, 0.4],\n",
       "       [0.3, 1.2, 1.5],\n",
       "       [2. , 0.1, 0.2]])"
      ]
     },
     "execution_count": 59,
     "metadata": {},
     "output_type": "execute_result"
    }
   ],
   "source": [
    "# DO NOT CHANGE\n",
    "\n",
    "q19 = np.array([[1, 0.2, 0.4], [0.3, 1.2, 1.5], [2.0, 0.1, 0.2]])\n",
    "q19"
   ]
  },
  {
   "cell_type": "code",
   "execution_count": 60,
   "metadata": {},
   "outputs": [],
   "source": [
    "# YOUR CHANGES HERE\n",
    "\n",
    "p19 = np.linalg.inv(q19)"
   ]
  },
  {
   "cell_type": "code",
   "execution_count": 61,
   "metadata": {},
   "outputs": [
    {
     "data": {
      "text/plain": [
       "array([[-3.33333333e-01,  2.77555756e-17,  6.66666667e-01],\n",
       "       [-1.08888889e+01,  2.22222222e+00,  5.11111111e+00],\n",
       "       [ 8.77777778e+00, -1.11111111e+00, -4.22222222e+00]])"
      ]
     },
     "execution_count": 61,
     "metadata": {},
     "output_type": "execute_result"
    }
   ],
   "source": [
    "p19"
   ]
  },
  {
   "cell_type": "code",
   "execution_count": 62,
   "metadata": {},
   "outputs": [
    {
     "data": {
      "text/plain": [
       "array([[ 1.00000000e+00, -4.68760833e-17, -1.38161088e-16],\n",
       "       [ 1.77635684e-15,  1.00000000e+00, -4.44089210e-16],\n",
       "       [ 5.30439890e-17,  4.31753398e-18,  1.00000000e+00]])"
      ]
     },
     "execution_count": 62,
     "metadata": {},
     "output_type": "execute_result"
    }
   ],
   "source": [
    "# try multiplying them together if p19 was assigned. should give an identity matrix.\n",
    "\n",
    "q19 @ p19 if p19 is not ... else None\n"
   ]
  },
  {
   "cell_type": "markdown",
   "metadata": {},
   "source": [
    "### Problem 20\n",
    "\n",
    "The matrix in `q20` represents a rotation transformation.\n",
    "Set `p20` to the angle in radians of that rotation.\n"
   ]
  },
  {
   "cell_type": "markdown",
   "metadata": {},
   "source": [
    "Hint: such a matrix is usually called a \"rotation matrix\"."
   ]
  },
  {
   "cell_type": "code",
   "execution_count": 63,
   "metadata": {},
   "outputs": [
    {
     "data": {
      "text/plain": [
       "array([[ 0.74022936, -0.67235445],\n",
       "       [ 0.67235445,  0.74022936]])"
      ]
     },
     "execution_count": 63,
     "metadata": {},
     "output_type": "execute_result"
    }
   ],
   "source": [
    "# DO NOT CHANGE\n",
    "\n",
    "q20 = np.array([[0.7402293552151602, -0.672354446462391], [0.672354446462391, 0.7402293552151602]])\n",
    "q20"
   ]
  },
  {
   "cell_type": "code",
   "execution_count": 64,
   "metadata": {},
   "outputs": [],
   "source": [
    "# YOUR CHANGES HERE\n",
    "\n",
    "#rotation_matrix = [[cos(theta), -sin(theta)], [sin(theta), cos(theta)]]\n",
    "#theta (angle) = 2 * arctan(sin(theta) / 1 + cos(theta))\n",
    "\n",
    "p20 = 2 * np.arctan(q20[1][0] / (1 + q20[0][0]))"
   ]
  },
  {
   "cell_type": "code",
   "execution_count": 65,
   "metadata": {},
   "outputs": [
    {
     "data": {
      "text/plain": [
       "np.float64(0.7373849099999998)"
      ]
     },
     "execution_count": 65,
     "metadata": {},
     "output_type": "execute_result"
    }
   ],
   "source": [
    "p20"
   ]
  },
  {
   "cell_type": "markdown",
   "metadata": {},
   "source": [
    "### Generative AI Usage\n",
    "\n",
    "If you used any generative AI tools, please add links to your transcripts below, and any other information that you feel is necessary to comply with the [generative AI policy](https://www.bu.edu/cds-faculty/culture-community/gaia-policy/).\n",
    "If you did not use any generative AI tools, simply write NONE below."
   ]
  },
  {
   "cell_type": "markdown",
   "metadata": {},
   "source": [
    "NONE\n"
   ]
  }
 ],
 "metadata": {
  "kernelspec": {
   "display_name": "Python 3",
   "language": "python",
   "name": "python3"
  },
  "language_info": {
   "codemirror_mode": {
    "name": "ipython",
    "version": 3
   },
   "file_extension": ".py",
   "mimetype": "text/x-python",
   "name": "python",
   "nbconvert_exporter": "python",
   "pygments_lexer": "ipython3",
   "version": "3.12.1"
  }
 },
 "nbformat": 4,
 "nbformat_minor": 2
}
